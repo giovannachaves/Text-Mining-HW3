{
 "cells": [
  {
   "cell_type": "code",
   "execution_count": 1,
   "metadata": {},
   "outputs": [],
   "source": [
    "from selenium.webdriver.common.keys import Keys\n",
    "import scrape_functions as kzd\n",
    "import sys\n",
    "import calendar\n",
    "from selenium.common.exceptions import NoSuchElementException, ElementClickInterceptedException, StaleElementReferenceException\n",
    "import re\n",
    "from selenium.webdriver.support.ui import Select\n",
    "import random\n",
    "import time\n",
    "from selenium import webdriver\n",
    "import os\n",
    "import numpy as np\n",
    "import importlib\n",
    "importlib.reload(sys.modules['scrape_functions'])\n",
    "from datetime import date"
   ]
  },
  {
   "cell_type": "code",
   "execution_count": 2,
   "metadata": {},
   "outputs": [],
   "source": [
    "# Starting code\n",
    "geko_path = \"/Users/giovannachaves/Documents/BSE/Intro to Text Mining/HW3/geckodriver.exe\"\n",
    "\n",
    "destination='/Users/giovannachaves/Documents/BSE/Intro to Text Mining/HW3/'\n",
    "link = 'https://www.booking.com/'\n",
    "\n",
    "profile, browser, download_path = kzd.start_up(destination, link, download=False)"
   ]
  },
  {
   "cell_type": "code",
   "execution_count": 3,
   "metadata": {},
   "outputs": [
    {
     "name": "stdout",
     "output_type": "stream",
     "text": [
      "Where do you want to go?Barcelona\n",
      "Day from which you want to look for (In january)28\n",
      "Day until which you want to look for (In january)31\n"
     ]
    }
   ],
   "source": [
    "# Clicking on the different buttoms to input things:\n",
    "\n",
    "# Click on  place\n",
    "place = input('Where do you want to go?')\n",
    "search1 = browser.find_element('xpath','//input[@placeholder=\"Where are you going?\"]')\n",
    "search1.send_keys(place)\n",
    "\n",
    "# Clik on dates:\n",
    "kzd.check_and_click(\n",
    "    browser, '//button[@class=\"d47738b911 e246f833f7 fe211c0731\"]', type='xpath')\n",
    "\n",
    "time.sleep(3)\n",
    "\n",
    "dates=browser.find_elements('xpath',\n",
    "    '//table[@class=\"aadb8ed6d3\"]/tbody/tr/td/span')\n",
    "\n",
    "from_day = input('Day from which you want to look for (In january)')\n",
    "if int(from_day)< date.today().day:\n",
    "    print('Wrong from_day')\n",
    "\n",
    "to_day = input('Day until which you want to look for (In january)')\n",
    "\n",
    "\n",
    "for date1 in dates:\n",
    "    if date1.get_attribute(\"data-date\") == f\"2023-01-{from_day}\":\n",
    "        # date1.click() this is the old webdriver version\n",
    "        browser.execute_script(\"arguments[0].click();\", date1)\n",
    "    if date1.get_attribute(\"data-date\") == f\"2023-01-{to_day}\":\n",
    "        # date1.click()\n",
    "        browser.execute_script(\"arguments[0].click();\", date1)\n",
    "        break\n",
    "        \n",
    "kzd.check_and_click(browser, 'button.d4b6b7a9e7', type='css')\n",
    "time.sleep(2)"
   ]
  },
  {
   "cell_type": "code",
   "execution_count": 4,
   "metadata": {},
   "outputs": [],
   "source": [
    "# LOOPING OVER WEBPAGES:\n",
    "\n",
    "def get_number_pages(browser):\n",
    "    '''\n",
    "    Get the number of pages. \n",
    "    '''\n",
    "    a = browser.find_elements('xpath',\n",
    "        '//button[text() and @class=\"fc63351294 f9c5690c58\"]')\n",
    "    total_pages = int(a[-1].text)\n",
    "    return(total_pages)"
   ]
  },
  {
   "cell_type": "code",
   "execution_count": 5,
   "metadata": {},
   "outputs": [
    {
     "name": "stdout",
     "output_type": "stream",
     "text": [
      "Total pages: 21\n"
     ]
    }
   ],
   "source": [
    "total_pages = get_number_pages(browser)\n",
    "print(f\"Total pages: {total_pages}\")\n",
    "\n",
    "ratings_list=[]\n",
    "hotels_list=[]\n",
    "\n",
    "for current_page in range(total_pages):    \n",
    "    hotels = browser.find_elements('xpath','//div[@class=\"fcab3ed991 a23c043802\"]')\n",
    "    ratings = browser.find_elements('xpath','//div[@class=\"b5cd09854e d10a6220b4\"]')\n",
    "    \n",
    "    for i in ratings:\n",
    "        ratings_list.append(i.text)\n",
    "        \n",
    "    for j in hotels:\n",
    "        hotels_list.append(j.text)\n",
    "\n",
    "    next_page_btn = browser.find_element('xpath', '//button[contains(@aria-label, \"Next page\")]')\n",
    "    next_page_btn.click()\n",
    "    time.sleep(10)"
   ]
  },
  {
   "cell_type": "code",
   "execution_count": 6,
   "metadata": {},
   "outputs": [
    {
     "data": {
      "text/plain": [
       "['8.4',\n",
       " '8.2',\n",
       " '7.7',\n",
       " '7.7',\n",
       " '7.1',\n",
       " '9.1',\n",
       " '8.7',\n",
       " '8.5',\n",
       " '8.4',\n",
       " '8.4',\n",
       " '8.3',\n",
       " '8.0',\n",
       " '8.0',\n",
       " '7.9',\n",
       " '7.9',\n",
       " '7.7',\n",
       " '7.7',\n",
       " '7.6',\n",
       " '7.6',\n",
       " '7.5',\n",
       " '7.3',\n",
       " '7.2',\n",
       " '7.1',\n",
       " '6.3',\n",
       " '6.1']"
      ]
     },
     "execution_count": 6,
     "metadata": {},
     "output_type": "execute_result"
    }
   ],
   "source": [
    "ratings_list"
   ]
  },
  {
   "cell_type": "code",
   "execution_count": 7,
   "metadata": {},
   "outputs": [
    {
     "data": {
      "text/plain": [
       "[\"Pars Tailor's Hostel\",\n",
       " 'Ciutat Vella',\n",
       " 'Casa Gracia',\n",
       " 'Hotel Best Auto Hogar',\n",
       " 'Ant Hostel Barcelona',\n",
       " 'Hostel One Ramblas',\n",
       " 'Hostelle - female only hostel Barcelona',\n",
       " 'Black Swan Hostel',\n",
       " 'Rocket Hostels Gracia',\n",
       " '360 Hostel Barcelona Arts&Culture',\n",
       " '360 Hostel Barcelona',\n",
       " 'Soul Backpackers Barcelona',\n",
       " 'Hola Hostal Eixample',\n",
       " 'Dream Cube Hostel',\n",
       " 'Feetup Yellow Nest Hostel Barcelona',\n",
       " 'Don Moustache Boutique Hostel',\n",
       " 'Sun & Moon Hostel',\n",
       " 'Safestay Barcelona Gothic',\n",
       " 'Inout',\n",
       " 'Alberguinn',\n",
       " 'Mambo Tango',\n",
       " 'No Limit Barcelona Central',\n",
       " 'Safestay Passeig de Gràcia',\n",
       " 'The Hipstel Parallel',\n",
       " 'Mellow Barcelona']"
      ]
     },
     "execution_count": 7,
     "metadata": {},
     "output_type": "execute_result"
    }
   ],
   "source": [
    "hotels_list"
   ]
  },
  {
   "cell_type": "code",
   "execution_count": null,
   "metadata": {},
   "outputs": [],
   "source": []
  }
 ],
 "metadata": {
  "kernelspec": {
   "display_name": "Python 3",
   "language": "python",
   "name": "python3"
  },
  "language_info": {
   "codemirror_mode": {
    "name": "ipython",
    "version": 3
   },
   "file_extension": ".py",
   "mimetype": "text/x-python",
   "name": "python",
   "nbconvert_exporter": "python",
   "pygments_lexer": "ipython3",
   "version": "3.7.4"
  }
 },
 "nbformat": 4,
 "nbformat_minor": 2
}
